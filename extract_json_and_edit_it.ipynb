{
 "cells": [
  {
   "cell_type": "code",
   "execution_count": 138,
   "id": "aec4db7f",
   "metadata": {},
   "outputs": [
    {
     "data": {
      "text/plain": [
       "dict"
      ]
     },
     "execution_count": 138,
     "metadata": {},
     "output_type": "execute_result"
    }
   ],
   "source": [
    "import json\n",
    "result_json = 'i_want_to_use_this.json'\n",
    "example_json = 'i_want_to_rewrite_this.json'\n",
    "\n",
    "# if your json file is in korean, use encoding 'UTF8' or 'utf-8-sig'\n",
    "with open(result_json, 'rt', encoding='UTF8') as f:\n",
    "    result_data = json.load(f)\n",
    "\n",
    "type(result_data)"
   ]
  },
  {
   "cell_type": "code",
   "execution_count": 139,
   "id": "6677a9d1",
   "metadata": {},
   "outputs": [],
   "source": [
    "with open(example_json, 'rt', encoding='utf-8-sig') as f:\n",
    "    example_data1 = json.load(f)"
   ]
  },
  {
   "cell_type": "code",
   "execution_count": 141,
   "id": "c42ffa83",
   "metadata": {},
   "outputs": [],
   "source": [
    "already_exist_filepath = [['path1','.jpg'],\n",
    "                         ['path2','.jpg'],\n",
    "                         ['path3','.jpg']]"
   ]
  },
  {
   "cell_type": "code",
   "execution_count": 144,
   "id": "f5040b06",
   "metadata": {
    "scrolled": true
   },
   "outputs": [],
   "source": [
    "for fi in result_data:\n",
    "    fi_dict = {}\n",
    "    filepath, filename = fi.split('/')\n",
    "    filepath = 'what_path' + filepath\n",
    "    fi_dict['filepath'] = filepath\n",
    "    fi_dict['filename'] = filename\n",
    "    \n",
    "    if [filepath,filename] in already_exist_filepath:\n",
    "        continue\n",
    "    \n",
    "    # make your own dictionaries, lists\n",
    "    \n",
    "    example_data1.append(fi_dict)  "
   ]
  },
  {
   "cell_type": "code",
   "execution_count": 146,
   "id": "a368ee04",
   "metadata": {},
   "outputs": [],
   "source": [
    "# json 파일로 저장\n",
    "with open('save_file.json', 'w', encoding='utf-8-sig') as f : \n",
    "    json.dump(example_data1, f, indent=4, ensure_ascii=False)"
   ]
  },
  {
   "cell_type": "code",
   "execution_count": null,
   "id": "3099bffd",
   "metadata": {},
   "outputs": [],
   "source": []
  }
 ],
 "metadata": {
  "kernelspec": {
   "display_name": "Python 3 (ipykernel)",
   "language": "python",
   "name": "python3"
  },
  "language_info": {
   "codemirror_mode": {
    "name": "ipython",
    "version": 3
   },
   "file_extension": ".py",
   "mimetype": "text/x-python",
   "name": "python",
   "nbconvert_exporter": "python",
   "pygments_lexer": "ipython3",
   "version": "3.11.5"
  }
 },
 "nbformat": 4,
 "nbformat_minor": 5
}
